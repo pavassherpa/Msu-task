{
 "cells": [
  {
   "cell_type": "code",
   "execution_count": 13,
   "id": "768b55b7",
   "metadata": {},
   "outputs": [],
   "source": [
    "x = \" hello world \""
   ]
  },
  {
   "cell_type": "code",
   "execution_count": 14,
   "id": "b7d2acb7",
   "metadata": {},
   "outputs": [
    {
     "data": {
      "text/plain": [
       "' hello world '"
      ]
     },
     "execution_count": 14,
     "metadata": {},
     "output_type": "execute_result"
    }
   ],
   "source": [
    "x"
   ]
  },
  {
   "cell_type": "code",
   "execution_count": 15,
   "id": "ac989feb",
   "metadata": {},
   "outputs": [],
   "source": [
    "x = x + 'it is beautiful outside'"
   ]
  },
  {
   "cell_type": "code",
   "execution_count": 16,
   "id": "1d603f45",
   "metadata": {},
   "outputs": [
    {
     "data": {
      "text/plain": [
       "' hello world it is beautiful outside'"
      ]
     },
     "execution_count": 16,
     "metadata": {},
     "output_type": "execute_result"
    }
   ],
   "source": [
    "x"
   ]
  },
  {
   "cell_type": "code",
   "execution_count": 17,
   "id": "96e31853",
   "metadata": {},
   "outputs": [
    {
     "data": {
      "text/plain": [
       "str"
      ]
     },
     "execution_count": 17,
     "metadata": {},
     "output_type": "execute_result"
    }
   ],
   "source": [
    "type(x)"
   ]
  },
  {
   "cell_type": "code",
   "execution_count": 18,
   "id": "c08467de",
   "metadata": {},
   "outputs": [],
   "source": [
    "letter =\"z\""
   ]
  },
  {
   "cell_type": "code",
   "execution_count": 19,
   "id": "3bf3f39d",
   "metadata": {},
   "outputs": [
    {
     "data": {
      "text/plain": [
       "'z'"
      ]
     },
     "execution_count": 19,
     "metadata": {},
     "output_type": "execute_result"
    }
   ],
   "source": [
    "letter\n"
   ]
  },
  {
   "cell_type": "code",
   "execution_count": 20,
   "id": "41327835",
   "metadata": {},
   "outputs": [
    {
     "data": {
      "text/plain": [
       "'z10'"
      ]
     },
     "execution_count": 20,
     "metadata": {},
     "output_type": "execute_result"
    }
   ],
   "source": [
    "letter + '10'"
   ]
  },
  {
   "cell_type": "code",
   "execution_count": 21,
   "id": "5eccbfc1",
   "metadata": {},
   "outputs": [
    {
     "data": {
      "text/plain": [
       "' HELLO WORLD IT IS BEAUTIFUL OUTSIDE'"
      ]
     },
     "execution_count": 21,
     "metadata": {},
     "output_type": "execute_result"
    }
   ],
   "source": [
    "x.upper()"
   ]
  },
  {
   "cell_type": "code",
   "execution_count": 22,
   "id": "518c5cfa",
   "metadata": {},
   "outputs": [],
   "source": [
    "x = x.upper()"
   ]
  },
  {
   "cell_type": "code",
   "execution_count": 23,
   "id": "8b445b3f",
   "metadata": {},
   "outputs": [
    {
     "data": {
      "text/plain": [
       "' hello world it is beautiful outside'"
      ]
     },
     "execution_count": 23,
     "metadata": {},
     "output_type": "execute_result"
    }
   ],
   "source": [
    "x.lower()"
   ]
  },
  {
   "cell_type": "code",
   "execution_count": 24,
   "id": "9ddcc059",
   "metadata": {},
   "outputs": [
    {
     "data": {
      "text/plain": [
       "['HELLO', 'WORLD', 'IT', 'IS', 'BEAUTIFUL', 'OUTSIDE']"
      ]
     },
     "execution_count": 24,
     "metadata": {},
     "output_type": "execute_result"
    }
   ],
   "source": [
    "x.split()"
   ]
  },
  {
   "cell_type": "code",
   "execution_count": 26,
   "id": "f2897639",
   "metadata": {},
   "outputs": [
    {
     "data": {
      "text/plain": [
       "[' HELL', ' W', 'RLD IT IS BEAUTIFUL ', 'UTSIDE']"
      ]
     },
     "execution_count": 26,
     "metadata": {},
     "output_type": "execute_result"
    }
   ],
   "source": [
    "x.split(\"O\")"
   ]
  },
  {
   "cell_type": "code",
   "execution_count": 27,
   "id": "13c42f48",
   "metadata": {},
   "outputs": [
    {
     "ename": "NameError",
     "evalue": "name 'pavas' is not defined",
     "output_type": "error",
     "traceback": [
      "\u001b[1;31m---------------------------------------------------------------------------\u001b[0m",
      "\u001b[1;31mNameError\u001b[0m                                 Traceback (most recent call last)",
      "Cell \u001b[1;32mIn[27], line 2\u001b[0m\n\u001b[0;32m      1\u001b[0m my_name \u001b[38;5;241m=\u001b[39m \u001b[38;5;124m'\u001b[39m\u001b[38;5;124mpavas\u001b[39m\u001b[38;5;124m'\u001b[39m\n\u001b[1;32m----> 2\u001b[0m \u001b[38;5;28mprint\u001b[39m (\u001b[38;5;124m'\u001b[39m\u001b[38;5;124mhello my name is\u001b[39m\u001b[38;5;124m'\u001b[39m \u001b[38;5;241m+\u001b[39m \u001b[43mpavas\u001b[49m )\n",
      "\u001b[1;31mNameError\u001b[0m: name 'pavas' is not defined"
     ]
    }
   ],
   "source": [
    "my_name = 'pavas'\n",
    "print ('hello my name is' + pavas )"
   ]
  },
  {
   "cell_type": "code",
   "execution_count": 28,
   "id": "e637faf7",
   "metadata": {},
   "outputs": [
    {
     "ename": "NameError",
     "evalue": "name 'my_pavas' is not defined",
     "output_type": "error",
     "traceback": [
      "\u001b[1;31m---------------------------------------------------------------------------\u001b[0m",
      "\u001b[1;31mNameError\u001b[0m                                 Traceback (most recent call last)",
      "Cell \u001b[1;32mIn[28], line 2\u001b[0m\n\u001b[0;32m      1\u001b[0m my_name \u001b[38;5;241m=\u001b[39m \u001b[38;5;124m'\u001b[39m\u001b[38;5;124mpavas\u001b[39m\u001b[38;5;124m'\u001b[39m\n\u001b[1;32m----> 2\u001b[0m \u001b[38;5;28mprint\u001b[39m (\u001b[38;5;124m'\u001b[39m\u001b[38;5;124mhello my name is\u001b[39m\u001b[38;5;124m'\u001b[39m \u001b[38;5;241m+\u001b[39m \u001b[43mmy_pavas\u001b[49m )\n",
      "\u001b[1;31mNameError\u001b[0m: name 'my_pavas' is not defined"
     ]
    }
   ],
   "source": [
    "my_name = 'pavas'\n",
    "print ('hello my name is' + my_pavas )"
   ]
  },
  {
   "cell_type": "code",
   "execution_count": 29,
   "id": "17bac95c",
   "metadata": {},
   "outputs": [
    {
     "ename": "SyntaxError",
     "evalue": "invalid syntax (4052149526.py, line 1)",
     "output_type": "error",
     "traceback": [
      "\u001b[1;36m  Cell \u001b[1;32mIn[29], line 1\u001b[1;36m\u001b[0m\n\u001b[1;33m    =a + b\u001b[0m\n\u001b[1;37m    ^\u001b[0m\n\u001b[1;31mSyntaxError\u001b[0m\u001b[1;31m:\u001b[0m invalid syntax\n"
     ]
    }
   ],
   "source": [
    "=a + b"
   ]
  },
  {
   "cell_type": "code",
   "execution_count": 30,
   "id": "b07c9650",
   "metadata": {},
   "outputs": [],
   "source": [
    "my_name = 'pavas'"
   ]
  },
  {
   "cell_type": "code",
   "execution_count": 31,
   "id": "c4f5e036",
   "metadata": {},
   "outputs": [
    {
     "name": "stdout",
     "output_type": "stream",
     "text": [
      "hello my name is + my_pavas\n"
     ]
    }
   ],
   "source": [
    "print ( 'hello my name is + my_pavas')"
   ]
  },
  {
   "cell_type": "code",
   "execution_count": 32,
   "id": "16003ae3",
   "metadata": {},
   "outputs": [
    {
     "ename": "NameError",
     "evalue": "name 'pavas' is not defined",
     "output_type": "error",
     "traceback": [
      "\u001b[1;31m---------------------------------------------------------------------------\u001b[0m",
      "\u001b[1;31mNameError\u001b[0m                                 Traceback (most recent call last)",
      "Cell \u001b[1;32mIn[32], line 2\u001b[0m\n\u001b[0;32m      1\u001b[0m my_name \u001b[38;5;241m=\u001b[39m \u001b[38;5;124m'\u001b[39m\u001b[38;5;124mpavas\u001b[39m\u001b[38;5;124m'\u001b[39m\n\u001b[1;32m----> 2\u001b[0m \u001b[38;5;28mprint\u001b[39m (\u001b[38;5;124m'\u001b[39m\u001b[38;5;124mhello my name is\u001b[39m\u001b[38;5;124m'\u001b[39m \u001b[38;5;241m+\u001b[39m \u001b[43mpavas\u001b[49m )\n",
      "\u001b[1;31mNameError\u001b[0m: name 'pavas' is not defined"
     ]
    }
   ],
   "source": [
    "my_name = 'pavas'\n",
    "print ('hello my name is' + pavas )"
   ]
  },
  {
   "cell_type": "code",
   "execution_count": 33,
   "id": "7638fc41",
   "metadata": {},
   "outputs": [
    {
     "name": "stdout",
     "output_type": "stream",
     "text": [
      "this is a stringinserted\n"
     ]
    }
   ],
   "source": [
    "print('this is a string{}'.format('inserted'))"
   ]
  },
  {
   "cell_type": "code",
   "execution_count": 34,
   "id": "87ed8855",
   "metadata": {},
   "outputs": [],
   "source": [
    "result = 100/77"
   ]
  },
  {
   "cell_type": "code",
   "execution_count": 35,
   "id": "5671be12",
   "metadata": {},
   "outputs": [
    {
     "data": {
      "text/plain": [
       "1.2987012987012987"
      ]
     },
     "execution_count": 35,
     "metadata": {},
     "output_type": "execute_result"
    }
   ],
   "source": [
    "result"
   ]
  },
  {
   "cell_type": "code",
   "execution_count": 36,
   "id": "52563b04",
   "metadata": {},
   "outputs": [
    {
     "ename": "SyntaxError",
     "evalue": "invalid syntax. Maybe you meant '==' or ':=' instead of '='? (622997412.py, line 1)",
     "output_type": "error",
     "traceback": [
      "\u001b[1;36m  Cell \u001b[1;32mIn[36], line 1\u001b[1;36m\u001b[0m\n\u001b[1;33m    print('the result is (r:1.5f)'.format{r=result})\u001b[0m\n\u001b[1;37m                                          ^\u001b[0m\n\u001b[1;31mSyntaxError\u001b[0m\u001b[1;31m:\u001b[0m invalid syntax. Maybe you meant '==' or ':=' instead of '='?\n"
     ]
    }
   ],
   "source": [
    "print('the result is (r:1.5f)'.format{r=result})"
   ]
  },
  {
   "cell_type": "code",
   "execution_count": 37,
   "id": "f2c70c8e",
   "metadata": {},
   "outputs": [
    {
     "ename": "SyntaxError",
     "evalue": "unterminated string literal (detected at line 5) (3746111280.py, line 5)",
     "output_type": "error",
     "traceback": [
      "\u001b[1;36m  Cell \u001b[1;32mIn[37], line 5\u001b[1;36m\u001b[0m\n\u001b[1;33m    print('the result is {r:1.3f}'.format(r=ros)')\u001b[0m\n\u001b[1;37m                                                ^\u001b[0m\n\u001b[1;31mSyntaxError\u001b[0m\u001b[1;31m:\u001b[0m unterminated string literal (detected at line 5)\n"
     ]
    }
   ],
   "source": [
    "a=1000\n",
    "b=5000\n",
    "c=77\n",
    "res=(a+b)/c\n",
    "print('the result is {r:1.3f}'.format(r=ros)')"
   ]
  },
  {
   "cell_type": "code",
   "execution_count": 38,
   "id": "dbb509b4",
   "metadata": {},
   "outputs": [],
   "source": [
    "#formatted string literals"
   ]
  },
  {
   "cell_type": "code",
   "execution_count": 39,
   "id": "ab9fffb3",
   "metadata": {},
   "outputs": [],
   "source": [
    "name = 'pavas'"
   ]
  },
  {
   "cell_type": "code",
   "execution_count": 41,
   "id": "e8dd1b9b",
   "metadata": {},
   "outputs": [
    {
     "name": "stdout",
     "output_type": "stream",
     "text": [
      "my name is pavas\n"
     ]
    }
   ],
   "source": [
    "print(f'my name is {name}')"
   ]
  },
  {
   "cell_type": "code",
   "execution_count": 42,
   "id": "d5034144",
   "metadata": {},
   "outputs": [
    {
     "name": "stdout",
     "output_type": "stream",
     "text": [
      "his name is pavas\n"
     ]
    }
   ],
   "source": [
    "print('his name is {}'.format(name))"
   ]
  },
  {
   "cell_type": "code",
   "execution_count": 45,
   "id": "e6ae24b8",
   "metadata": {},
   "outputs": [
    {
     "name": "stdout",
     "output_type": "stream",
     "text": [
      "pavas is 40 year old\n"
     ]
    }
   ],
   "source": [
    "print( f'{name} is 40 year old')"
   ]
  },
  {
   "cell_type": "code",
   "execution_count": 46,
   "id": "ba86ee76",
   "metadata": {},
   "outputs": [],
   "source": [
    "word = \"c\""
   ]
  },
  {
   "cell_type": "code",
   "execution_count": 47,
   "id": "c46aa3c2",
   "metadata": {},
   "outputs": [
    {
     "data": {
      "text/plain": [
       "['HELLO', 'WORLD', 'IT', 'IS', 'BEAUTIFUL', 'OUTSIDE']"
      ]
     },
     "execution_count": 47,
     "metadata": {},
     "output_type": "execute_result"
    }
   ],
   "source": [
    "x.split()"
   ]
  },
  {
   "cell_type": "code",
   "execution_count": 48,
   "id": "9b8d46e6",
   "metadata": {},
   "outputs": [
    {
     "ename": "NameError",
     "evalue": "name 'c' is not defined",
     "output_type": "error",
     "traceback": [
      "\u001b[1;31m---------------------------------------------------------------------------\u001b[0m",
      "\u001b[1;31mNameError\u001b[0m                                 Traceback (most recent call last)",
      "Cell \u001b[1;32mIn[48], line 1\u001b[0m\n\u001b[1;32m----> 1\u001b[0m word\u001b[38;5;241m=\u001b[39m\u001b[43mc\u001b[49m\n",
      "\u001b[1;31mNameError\u001b[0m: name 'c' is not defined"
     ]
    }
   ],
   "source": [
    "word=c"
   ]
  },
  {
   "cell_type": "code",
   "execution_count": 49,
   "id": "b82f192c",
   "metadata": {},
   "outputs": [
    {
     "data": {
      "text/plain": [
       "'c'"
      ]
     },
     "execution_count": 49,
     "metadata": {},
     "output_type": "execute_result"
    }
   ],
   "source": [
    "word "
   ]
  },
  {
   "cell_type": "code",
   "execution_count": 50,
   "id": "ec4306f8",
   "metadata": {},
   "outputs": [
    {
     "ename": "SyntaxError",
     "evalue": "invalid syntax (307933737.py, line 2)",
     "output_type": "error",
     "traceback": [
      "\u001b[1;36m  Cell \u001b[1;32mIn[50], line 2\u001b[1;36m\u001b[0m\n\u001b[1;33m    s2=i am a\u001b[0m\n\u001b[1;37m         ^\u001b[0m\n\u001b[1;31mSyntaxError\u001b[0m\u001b[1;31m:\u001b[0m invalid syntax\n"
     ]
    }
   ],
   "source": [
    "s1=hello\n",
    "s2=i am a\n",
    "s3=python programmer"
   ]
  },
  {
   "cell_type": "code",
   "execution_count": 57,
   "id": "ed0a0b27",
   "metadata": {},
   "outputs": [],
   "source": [
    "s1= 'hello '\n",
    "s2= 'i am a'\n",
    "s3= ' python programmer'"
   ]
  },
  {
   "cell_type": "code",
   "execution_count": 56,
   "id": "1bfac99d",
   "metadata": {},
   "outputs": [
    {
     "data": {
      "text/plain": [
       "'hello  i am a python programmer'"
      ]
     },
     "execution_count": 56,
     "metadata": {},
     "output_type": "execute_result"
    }
   ],
   "source": [
    "s1+s2+s3"
   ]
  },
  {
   "cell_type": "code",
   "execution_count": 58,
   "id": "ff051537",
   "metadata": {},
   "outputs": [
    {
     "data": {
      "text/plain": [
       "' HELLO WORLD IT IS BEAUTIFUL OUTSIDE'"
      ]
     },
     "execution_count": 58,
     "metadata": {},
     "output_type": "execute_result"
    }
   ],
   "source": [
    "x.upper()\n"
   ]
  },
  {
   "cell_type": "code",
   "execution_count": 59,
   "id": "10b77626",
   "metadata": {},
   "outputs": [
    {
     "ename": "SyntaxError",
     "evalue": "invalid syntax (774640227.py, line 1)",
     "output_type": "error",
     "traceback": [
      "\u001b[1;36m  Cell \u001b[1;32mIn[59], line 1\u001b[1;36m\u001b[0m\n\u001b[1;33m    x.\"the quick brown fox\"\u001b[0m\n\u001b[1;37m      ^\u001b[0m\n\u001b[1;31mSyntaxError\u001b[0m\u001b[1;31m:\u001b[0m invalid syntax\n"
     ]
    }
   ],
   "source": [
    "x.\"the quick brown fox\""
   ]
  },
  {
   "cell_type": "code",
   "execution_count": 60,
   "id": "6131171b",
   "metadata": {},
   "outputs": [],
   "source": [
    "name = 'pavas'"
   ]
  },
  {
   "cell_type": "code",
   "execution_count": 61,
   "id": "41804fbc",
   "metadata": {},
   "outputs": [
    {
     "name": "stdout",
     "output_type": "stream",
     "text": [
      "my name is pavas\n"
     ]
    }
   ],
   "source": [
    "print(f'my name is {name}')"
   ]
  },
  {
   "cell_type": "code",
   "execution_count": 62,
   "id": "8ac4d395",
   "metadata": {},
   "outputs": [
    {
     "name": "stdout",
     "output_type": "stream",
     "text": [
      "i am pavas\n"
     ]
    }
   ],
   "source": [
    "print('i am {}'.format(name))"
   ]
  },
  {
   "cell_type": "code",
   "execution_count": 64,
   "id": "23da28a8",
   "metadata": {},
   "outputs": [
    {
     "name": "stdout",
     "output_type": "stream",
     "text": [
      "pavas is 19 year old\n"
     ]
    }
   ],
   "source": [
    "print( f'{name} is 19 year old')"
   ]
  },
  {
   "cell_type": "code",
   "execution_count": 65,
   "id": "98126fda",
   "metadata": {},
   "outputs": [
    {
     "ename": "NameError",
     "evalue": "name 'john' is not defined",
     "output_type": "error",
     "traceback": [
      "\u001b[1;31m---------------------------------------------------------------------------\u001b[0m",
      "\u001b[1;31mNameError\u001b[0m                                 Traceback (most recent call last)",
      "Cell \u001b[1;32mIn[65], line 1\u001b[0m\n\u001b[1;32m----> 1\u001b[0m \u001b[38;5;28mprint\u001b[39m(\u001b[38;5;124mf\u001b[39m\u001b[38;5;124m'\u001b[39m\u001b[38;5;132;01m{\u001b[39;00mjohn\u001b[38;5;132;01m}\u001b[39;00m\u001b[38;5;124mis 25 year old\u001b[39m\u001b[38;5;124m'\u001b[39m)\n",
      "\u001b[1;31mNameError\u001b[0m: name 'john' is not defined"
     ]
    }
   ],
   "source": [
    "print(f'{john}is 25 year old')"
   ]
  },
  {
   "cell_type": "code",
   "execution_count": 66,
   "id": "7aec886e",
   "metadata": {},
   "outputs": [],
   "source": [
    "name = 'john'"
   ]
  },
  {
   "cell_type": "code",
   "execution_count": 67,
   "id": "5356c11f",
   "metadata": {},
   "outputs": [
    {
     "ename": "NameError",
     "evalue": "name 'john' is not defined",
     "output_type": "error",
     "traceback": [
      "\u001b[1;31m---------------------------------------------------------------------------\u001b[0m",
      "\u001b[1;31mNameError\u001b[0m                                 Traceback (most recent call last)",
      "Cell \u001b[1;32mIn[67], line 1\u001b[0m\n\u001b[1;32m----> 1\u001b[0m \u001b[38;5;28mprint\u001b[39m( \u001b[38;5;124mf\u001b[39m\u001b[38;5;124m'\u001b[39m\u001b[38;5;132;01m{\u001b[39;00mjohn\u001b[38;5;132;01m}\u001b[39;00m\u001b[38;5;124m is 25 year old\u001b[39m\u001b[38;5;124m'\u001b[39m)\n",
      "\u001b[1;31mNameError\u001b[0m: name 'john' is not defined"
     ]
    }
   ],
   "source": [
    "print( f'{john} is 25 year old')"
   ]
  },
  {
   "cell_type": "code",
   "execution_count": 68,
   "id": "270456a3",
   "metadata": {},
   "outputs": [],
   "source": [
    "name = 'john'\n"
   ]
  },
  {
   "cell_type": "code",
   "execution_count": 69,
   "id": "51494342",
   "metadata": {},
   "outputs": [
    {
     "name": "stdout",
     "output_type": "stream",
     "text": [
      "my name is john\n"
     ]
    }
   ],
   "source": [
    "print(f'my name is {name}')"
   ]
  },
  {
   "cell_type": "code",
   "execution_count": 70,
   "id": "7a9c7662",
   "metadata": {},
   "outputs": [
    {
     "name": "stdout",
     "output_type": "stream",
     "text": [
      "i am john\n"
     ]
    }
   ],
   "source": [
    "print('i am {}'.format(name))"
   ]
  },
  {
   "cell_type": "code",
   "execution_count": 71,
   "id": "45077df3",
   "metadata": {},
   "outputs": [
    {
     "name": "stdout",
     "output_type": "stream",
     "text": [
      "john is 25 year old\n"
     ]
    }
   ],
   "source": [
    "print( f'{name} is 25 year old')"
   ]
  },
  {
   "cell_type": "code",
   "execution_count": 72,
   "id": "10650ac9",
   "metadata": {},
   "outputs": [
    {
     "ename": "NameError",
     "evalue": "name 'string' is not defined",
     "output_type": "error",
     "traceback": [
      "\u001b[1;31m---------------------------------------------------------------------------\u001b[0m",
      "\u001b[1;31mNameError\u001b[0m                                 Traceback (most recent call last)",
      "Cell \u001b[1;32mIn[72], line 1\u001b[0m\n\u001b[1;32m----> 1\u001b[0m \u001b[43mstring\u001b[49m\n",
      "\u001b[1;31mNameError\u001b[0m: name 'string' is not defined"
     ]
    }
   ],
   "source": [
    "string"
   ]
  },
  {
   "cell_type": "code",
   "execution_count": 73,
   "id": "9ff6d243",
   "metadata": {},
   "outputs": [
    {
     "ename": "SyntaxError",
     "evalue": "invalid syntax (2268535891.py, line 1)",
     "output_type": "error",
     "traceback": [
      "\u001b[1;36m  Cell \u001b[1;32mIn[73], line 1\u001b[1;36m\u001b[0m\n\u001b[1;33m    string/\u001b[0m\n\u001b[1;37m           ^\u001b[0m\n\u001b[1;31mSyntaxError\u001b[0m\u001b[1;31m:\u001b[0m invalid syntax\n"
     ]
    }
   ],
   "source": [
    "string/"
   ]
  },
  {
   "cell_type": "code",
   "execution_count": 74,
   "id": "d68b40c2",
   "metadata": {},
   "outputs": [
    {
     "ename": "SyntaxError",
     "evalue": "invalid syntax (1833105637.py, line 1)",
     "output_type": "error",
     "traceback": [
      "\u001b[1;36m  Cell \u001b[1;32mIn[74], line 1\u001b[1;36m\u001b[0m\n\u001b[1;33m    |string= \"i love programming in python\"\u001b[0m\n\u001b[1;37m    ^\u001b[0m\n\u001b[1;31mSyntaxError\u001b[0m\u001b[1;31m:\u001b[0m invalid syntax\n"
     ]
    }
   ],
   "source": [
    "|string= \"i love programming in python\""
   ]
  },
  {
   "cell_type": "code",
   "execution_count": 75,
   "id": "d5f4bb48",
   "metadata": {},
   "outputs": [],
   "source": [
    "string= 'programming'"
   ]
  },
  {
   "cell_type": "code",
   "execution_count": 76,
   "id": "8480c2ec",
   "metadata": {},
   "outputs": [],
   "source": [
    "string=\"i love programming in python\""
   ]
  },
  {
   "cell_type": "code",
   "execution_count": 105,
   "id": "c24c4f15",
   "metadata": {},
   "outputs": [],
   "source": [
    "result = 100/4\n"
   ]
  },
  {
   "cell_type": "code",
   "execution_count": 106,
   "id": "b610d21e",
   "metadata": {},
   "outputs": [
    {
     "data": {
      "text/plain": [
       "25.0"
      ]
     },
     "execution_count": 106,
     "metadata": {},
     "output_type": "execute_result"
    }
   ],
   "source": [
    "result"
   ]
  },
  {
   "cell_type": "code",
   "execution_count": 107,
   "id": "531b022e",
   "metadata": {},
   "outputs": [],
   "source": [
    "pie=100/22"
   ]
  },
  {
   "cell_type": "code",
   "execution_count": 108,
   "id": "4ce9f307",
   "metadata": {},
   "outputs": [
    {
     "ename": "NameError",
     "evalue": "name 'p' is not defined",
     "output_type": "error",
     "traceback": [
      "\u001b[1;31m---------------------------------------------------------------------------\u001b[0m",
      "\u001b[1;31mNameError\u001b[0m                                 Traceback (most recent call last)",
      "Cell \u001b[1;32mIn[108], line 1\u001b[0m\n\u001b[1;32m----> 1\u001b[0m \u001b[43mp\u001b[49m\n",
      "\u001b[1;31mNameError\u001b[0m: name 'p' is not defined"
     ]
    }
   ],
   "source": [
    "p"
   ]
  },
  {
   "cell_type": "code",
   "execution_count": 109,
   "id": "58deb74b",
   "metadata": {},
   "outputs": [],
   "source": [
    "pie = 100/22"
   ]
  },
  {
   "cell_type": "code",
   "execution_count": 110,
   "id": "e3f0b6d7",
   "metadata": {},
   "outputs": [
    {
     "ename": "NameError",
     "evalue": "name 'p' is not defined",
     "output_type": "error",
     "traceback": [
      "\u001b[1;31m---------------------------------------------------------------------------\u001b[0m",
      "\u001b[1;31mNameError\u001b[0m                                 Traceback (most recent call last)",
      "Cell \u001b[1;32mIn[110], line 1\u001b[0m\n\u001b[1;32m----> 1\u001b[0m \u001b[43mp\u001b[49m\n",
      "\u001b[1;31mNameError\u001b[0m: name 'p' is not defined"
     ]
    }
   ],
   "source": [
    "p"
   ]
  },
  {
   "cell_type": "code",
   "execution_count": 111,
   "id": "bf35b6b6",
   "metadata": {},
   "outputs": [],
   "source": [
    "print='pie.4'"
   ]
  },
  {
   "cell_type": "code",
   "execution_count": 112,
   "id": "5e9246f0",
   "metadata": {},
   "outputs": [
    {
     "ename": "SyntaxError",
     "evalue": "invalid syntax (358919165.py, line 1)",
     "output_type": "error",
     "traceback": [
      "\u001b[1;36m  Cell \u001b[1;32mIn[112], line 1\u001b[1;36m\u001b[0m\n\u001b[1;33m    p=\u001b[0m\n\u001b[1;37m      ^\u001b[0m\n\u001b[1;31mSyntaxError\u001b[0m\u001b[1;31m:\u001b[0m invalid syntax\n"
     ]
    }
   ],
   "source": [
    "p="
   ]
  },
  {
   "cell_type": "code",
   "execution_count": null,
   "id": "883ef4c1",
   "metadata": {},
   "outputs": [],
   "source": []
  }
 ],
 "metadata": {
  "kernelspec": {
   "display_name": "Python 3 (ipykernel)",
   "language": "python",
   "name": "python3"
  },
  "language_info": {
   "codemirror_mode": {
    "name": "ipython",
    "version": 3
   },
   "file_extension": ".py",
   "mimetype": "text/x-python",
   "name": "python",
   "nbconvert_exporter": "python",
   "pygments_lexer": "ipython3",
   "version": "3.10.9"
  }
 },
 "nbformat": 4,
 "nbformat_minor": 5
}
